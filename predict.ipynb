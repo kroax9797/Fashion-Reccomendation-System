{
 "cells": [
  {
   "cell_type": "code",
   "execution_count": 43,
   "metadata": {},
   "outputs": [],
   "source": [
    "import tensorflow\n",
    "from tensorflow.keras.preprocessing import image\n",
    "from tensorflow.keras.layers import GlobalMaxPooling2D\n",
    "from tensorflow.keras.applications.resnet50 import ResNet50,preprocess_input\n",
    "import numpy as np\n",
    "from numpy.linalg import norm\n",
    "import os\n",
    "from tqdm import tqdm\n",
    "import pickle\n",
    "from collections import Counter\n",
    "from sklearn.neighbors import NearestNeighbors\n",
    "import cv2 "
   ]
  },
  {
   "cell_type": "code",
   "execution_count": 44,
   "metadata": {},
   "outputs": [
    {
     "name": "stdout",
     "output_type": "stream",
     "text": [
      "44441\n",
      "['images/15925.jpg', 'images/18260.jpg', 'images/31891.jpg', 'images/26635.jpg', 'images/7942.jpg', 'images/46102.jpg', 'images/59657.jpg', 'images/19367.jpg', 'images/15189.jpg', 'images/57352.jpg']\n"
     ]
    }
   ],
   "source": [
    "feature_extraction = []\n",
    "filename = ['embeddings0-20.pkl' , 'embeddings20-30.pkl' ,'embeddings30-44.441.pkl']\n",
    "\n",
    "for file in filename :\n",
    "    with open(file , 'rb') as f : \n",
    "        data = pickle.load(f)\n",
    "        for i in range(len(data)):\n",
    "            feature_extraction.append(data[i])\n",
    "\n",
    "print(len(feature_extraction))\n",
    "\n",
    "filenames = []\n",
    "with open ('filenames.pkl' , 'rb') as f:\n",
    "    filenames = pickle.load(f)\n",
    "\n",
    "print(filenames[:10])\n",
    "\n"
   ]
  },
  {
   "cell_type": "code",
   "execution_count": 45,
   "metadata": {},
   "outputs": [
    {
     "name": "stdout",
     "output_type": "stream",
     "text": [
      "(44441, 2048)\n"
     ]
    }
   ],
   "source": [
    "print(np.array(feature_extraction).shape)"
   ]
  },
  {
   "cell_type": "code",
   "execution_count": 46,
   "metadata": {},
   "outputs": [
    {
     "name": "stdout",
     "output_type": "stream",
     "text": [
      "Model: \"sequential_3\"\n",
      "_________________________________________________________________\n",
      " Layer (type)                Output Shape              Param #   \n",
      "=================================================================\n",
      " resnet50 (Functional)       (None, 7, 7, 2048)        23587712  \n",
      "                                                                 \n",
      " global_max_pooling2d_3 (Gl  (None, 2048)              0         \n",
      " obalMaxPooling2D)                                               \n",
      "                                                                 \n",
      "=================================================================\n",
      "Total params: 23587712 (89.98 MB)\n",
      "Trainable params: 0 (0.00 Byte)\n",
      "Non-trainable params: 23587712 (89.98 MB)\n",
      "_________________________________________________________________\n"
     ]
    }
   ],
   "source": [
    "model = ResNet50(weights='imagenet' , include_top=False , input_shape=(224,224,3))\n",
    "model.trainable = False \n",
    "model = tensorflow.keras.Sequential([\n",
    "    model ,\n",
    "    GlobalMaxPooling2D()\n",
    "])\n",
    "model.summary()"
   ]
  },
  {
   "cell_type": "code",
   "execution_count": 52,
   "metadata": {},
   "outputs": [],
   "source": [
    "def extract_features(img_path , model):\n",
    "    img = image.load_img(img_path , target_size=(224,224))\n",
    "    img = image.img_to_array(img)\n",
    "    img = np.expand_dims(img , axis = 0)\n",
    "    img = preprocess_input(img)\n",
    "    result = model.predict(img).flatten()\n",
    "    result = result / norm(result)\n",
    "    return result  "
   ]
  },
  {
   "cell_type": "code",
   "execution_count": 54,
   "metadata": {},
   "outputs": [
    {
     "name": "stdout",
     "output_type": "stream",
     "text": [
      "1/1 [==============================] - 0s 101ms/step\n"
     ]
    },
    {
     "data": {
      "text/plain": [
       "array([0.00185183, 0.03264625, 0.00192974, ..., 0.00556849, 0.03557047,\n",
       "       0.04254084], dtype=float32)"
      ]
     },
     "execution_count": 54,
     "metadata": {},
     "output_type": "execute_result"
    }
   ],
   "source": [
    "features = extract_features('test1.jpg' , model)\n",
    "features"
   ]
  },
  {
   "cell_type": "code",
   "execution_count": 55,
   "metadata": {},
   "outputs": [
    {
     "name": "stdout",
     "output_type": "stream",
     "text": [
      "[[34478 15696  4868 21406 29476  4476]]\n"
     ]
    }
   ],
   "source": [
    "neighbours = NearestNeighbors(n_neighbors=6,algorithm='brute',metric = 'euclidean')\n",
    "neighbours.fit(feature_extraction)\n",
    "distances , indices = neighbours.kneighbors([features])\n",
    "print(indices)"
   ]
  },
  {
   "cell_type": "code",
   "execution_count": 58,
   "metadata": {},
   "outputs": [
    {
     "name": "stdout",
     "output_type": "stream",
     "text": [
      "images/2212.jpg\n",
      "images/2207.jpg\n",
      "images/2478.jpg\n",
      "images/2242.jpg\n",
      "images/2240.jpg\n"
     ]
    }
   ],
   "source": [
    "for file in indices[0][1:]:\n",
    "    print(filenames[file])\n",
    "    temp_img = cv2.imread(filenames[file])\n",
    "    cv2.imshow('output' , cv2.resize(temp_img , (128,128)))\n",
    "    cv2.waitKey(0)"
   ]
  }
 ],
 "metadata": {
  "kernelspec": {
   "display_name": "Python 3",
   "language": "python",
   "name": "python3"
  },
  "language_info": {
   "codemirror_mode": {
    "name": "ipython",
    "version": 3
   },
   "file_extension": ".py",
   "mimetype": "text/x-python",
   "name": "python",
   "nbconvert_exporter": "python",
   "pygments_lexer": "ipython3",
   "version": "3.11.4"
  },
  "orig_nbformat": 4
 },
 "nbformat": 4,
 "nbformat_minor": 2
}
